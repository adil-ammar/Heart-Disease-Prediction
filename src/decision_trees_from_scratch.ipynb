{
 "cells": [
  {
   "cell_type": "markdown",
   "id": "29186ca1",
   "metadata": {},
   "source": [
    "# Heart Disease Prediction using Random Forest Algorithm from scratch"
   ]
  },
  {
   "cell_type": "markdown",
   "id": "004dd415",
   "metadata": {},
   "source": [
    "### Importing Libraries"
   ]
  },
  {
   "cell_type": "code",
   "execution_count": 1,
   "id": "41699c6c",
   "metadata": {},
   "outputs": [],
   "source": [
    "import numpy as np\n",
    "import pandas as pd\n",
    "import matplotlib.pyplot as plt\n",
    "import seaborn as sns\n",
    "import warnings\n",
    "from sklearn.model_selection import KFold, StratifiedKFold, cross_val_score, RandomizedSearchCV, train_test_split\n",
    "from sklearn.metrics import classification_report, accuracy_score, confusion_matrix\n",
    "from sklearn.preprocessing import StandardScaler\n",
    "\n",
    "#for comparison with sklearn implementation.\n",
    "from sklearn.tree import DecisionTreeClassifier"
   ]
  },
  {
   "cell_type": "markdown",
   "id": "26972d78",
   "metadata": {},
   "source": [
    "### Importing the Dataset"
   ]
  },
  {
   "cell_type": "code",
   "execution_count": 2,
   "id": "cfc751f5",
   "metadata": {},
   "outputs": [],
   "source": [
    "dataframe = pd.read_csv('../data/heart_disease_dataset_UCI.csv')"
   ]
  },
  {
   "cell_type": "code",
   "execution_count": 3,
   "id": "903b6009",
   "metadata": {},
   "outputs": [
    {
     "data": {
      "text/html": [
       "<div>\n",
       "<style scoped>\n",
       "    .dataframe tbody tr th:only-of-type {\n",
       "        vertical-align: middle;\n",
       "    }\n",
       "\n",
       "    .dataframe tbody tr th {\n",
       "        vertical-align: top;\n",
       "    }\n",
       "\n",
       "    .dataframe thead th {\n",
       "        text-align: right;\n",
       "    }\n",
       "</style>\n",
       "<table border=\"1\" class=\"dataframe\">\n",
       "  <thead>\n",
       "    <tr style=\"text-align: right;\">\n",
       "      <th></th>\n",
       "      <th>age</th>\n",
       "      <th>sex</th>\n",
       "      <th>cp</th>\n",
       "      <th>trestbps</th>\n",
       "      <th>chol</th>\n",
       "      <th>fbs</th>\n",
       "      <th>restecg</th>\n",
       "      <th>thalach</th>\n",
       "      <th>exang</th>\n",
       "      <th>oldpeak</th>\n",
       "      <th>slope</th>\n",
       "      <th>ca</th>\n",
       "      <th>thal</th>\n",
       "      <th>target</th>\n",
       "    </tr>\n",
       "  </thead>\n",
       "  <tbody>\n",
       "    <tr>\n",
       "      <th>0</th>\n",
       "      <td>63</td>\n",
       "      <td>1</td>\n",
       "      <td>3</td>\n",
       "      <td>145</td>\n",
       "      <td>233</td>\n",
       "      <td>1</td>\n",
       "      <td>0</td>\n",
       "      <td>150</td>\n",
       "      <td>0</td>\n",
       "      <td>2.3</td>\n",
       "      <td>0</td>\n",
       "      <td>0</td>\n",
       "      <td>1</td>\n",
       "      <td>1</td>\n",
       "    </tr>\n",
       "    <tr>\n",
       "      <th>1</th>\n",
       "      <td>37</td>\n",
       "      <td>1</td>\n",
       "      <td>2</td>\n",
       "      <td>130</td>\n",
       "      <td>250</td>\n",
       "      <td>0</td>\n",
       "      <td>1</td>\n",
       "      <td>187</td>\n",
       "      <td>0</td>\n",
       "      <td>3.5</td>\n",
       "      <td>0</td>\n",
       "      <td>0</td>\n",
       "      <td>2</td>\n",
       "      <td>1</td>\n",
       "    </tr>\n",
       "    <tr>\n",
       "      <th>2</th>\n",
       "      <td>41</td>\n",
       "      <td>0</td>\n",
       "      <td>1</td>\n",
       "      <td>130</td>\n",
       "      <td>204</td>\n",
       "      <td>0</td>\n",
       "      <td>0</td>\n",
       "      <td>172</td>\n",
       "      <td>0</td>\n",
       "      <td>1.4</td>\n",
       "      <td>2</td>\n",
       "      <td>0</td>\n",
       "      <td>2</td>\n",
       "      <td>1</td>\n",
       "    </tr>\n",
       "    <tr>\n",
       "      <th>3</th>\n",
       "      <td>56</td>\n",
       "      <td>1</td>\n",
       "      <td>1</td>\n",
       "      <td>120</td>\n",
       "      <td>236</td>\n",
       "      <td>0</td>\n",
       "      <td>1</td>\n",
       "      <td>178</td>\n",
       "      <td>0</td>\n",
       "      <td>0.8</td>\n",
       "      <td>2</td>\n",
       "      <td>0</td>\n",
       "      <td>2</td>\n",
       "      <td>1</td>\n",
       "    </tr>\n",
       "    <tr>\n",
       "      <th>4</th>\n",
       "      <td>57</td>\n",
       "      <td>0</td>\n",
       "      <td>0</td>\n",
       "      <td>120</td>\n",
       "      <td>354</td>\n",
       "      <td>0</td>\n",
       "      <td>1</td>\n",
       "      <td>163</td>\n",
       "      <td>1</td>\n",
       "      <td>0.6</td>\n",
       "      <td>2</td>\n",
       "      <td>0</td>\n",
       "      <td>2</td>\n",
       "      <td>1</td>\n",
       "    </tr>\n",
       "  </tbody>\n",
       "</table>\n",
       "</div>"
      ],
      "text/plain": [
       "   age  sex  cp  trestbps  chol  fbs  restecg  thalach  exang  oldpeak  slope  \\\n",
       "0   63    1   3       145   233    1        0      150      0      2.3      0   \n",
       "1   37    1   2       130   250    0        1      187      0      3.5      0   \n",
       "2   41    0   1       130   204    0        0      172      0      1.4      2   \n",
       "3   56    1   1       120   236    0        1      178      0      0.8      2   \n",
       "4   57    0   0       120   354    0        1      163      1      0.6      2   \n",
       "\n",
       "   ca  thal  target  \n",
       "0   0     1       1  \n",
       "1   0     2       1  \n",
       "2   0     2       1  \n",
       "3   0     2       1  \n",
       "4   0     2       1  "
      ]
     },
     "execution_count": 3,
     "metadata": {},
     "output_type": "execute_result"
    }
   ],
   "source": [
    "dataframe.head()"
   ]
  },
  {
   "cell_type": "markdown",
   "id": "f82f5c16",
   "metadata": {},
   "source": [
    "### Exploratory Data Analysis"
   ]
  },
  {
   "cell_type": "markdown",
   "id": "e2c69080",
   "metadata": {},
   "source": [
    "#### Information on the features"
   ]
  },
  {
   "cell_type": "code",
   "execution_count": 4,
   "id": "625b62ba",
   "metadata": {},
   "outputs": [
    {
     "name": "stdout",
     "output_type": "stream",
     "text": [
      "<class 'pandas.core.frame.DataFrame'>\n",
      "RangeIndex: 303 entries, 0 to 302\n",
      "Data columns (total 14 columns):\n",
      " #   Column    Non-Null Count  Dtype  \n",
      "---  ------    --------------  -----  \n",
      " 0   age       303 non-null    int64  \n",
      " 1   sex       303 non-null    int64  \n",
      " 2   cp        303 non-null    int64  \n",
      " 3   trestbps  303 non-null    int64  \n",
      " 4   chol      303 non-null    int64  \n",
      " 5   fbs       303 non-null    int64  \n",
      " 6   restecg   303 non-null    int64  \n",
      " 7   thalach   303 non-null    int64  \n",
      " 8   exang     303 non-null    int64  \n",
      " 9   oldpeak   303 non-null    float64\n",
      " 10  slope     303 non-null    int64  \n",
      " 11  ca        303 non-null    int64  \n",
      " 12  thal      303 non-null    int64  \n",
      " 13  target    303 non-null    int64  \n",
      "dtypes: float64(1), int64(13)\n",
      "memory usage: 33.3 KB\n"
     ]
    }
   ],
   "source": [
    "dataframe.info()"
   ]
  },
  {
   "cell_type": "markdown",
   "id": "4e240957",
   "metadata": {},
   "source": [
    "#### finding the null values "
   ]
  },
  {
   "cell_type": "code",
   "execution_count": 5,
   "id": "d30edad5",
   "metadata": {},
   "outputs": [
    {
     "data": {
      "text/plain": [
       "age         0\n",
       "sex         0\n",
       "cp          0\n",
       "trestbps    0\n",
       "chol        0\n",
       "fbs         0\n",
       "restecg     0\n",
       "thalach     0\n",
       "exang       0\n",
       "oldpeak     0\n",
       "slope       0\n",
       "ca          0\n",
       "thal        0\n",
       "target      0\n",
       "dtype: int64"
      ]
     },
     "execution_count": 5,
     "metadata": {},
     "output_type": "execute_result"
    }
   ],
   "source": [
    "dataframe.isna().sum()"
   ]
  },
  {
   "cell_type": "markdown",
   "id": "76e0e3c1",
   "metadata": {},
   "source": [
    "#### mean of the entires across the features"
   ]
  },
  {
   "cell_type": "code",
   "execution_count": 6,
   "id": "0b0a0e72",
   "metadata": {},
   "outputs": [
    {
     "data": {
      "text/plain": [
       "age          54.366337\n",
       "sex           0.683168\n",
       "cp            0.966997\n",
       "trestbps    131.623762\n",
       "chol        246.264026\n",
       "fbs           0.148515\n",
       "restecg       0.528053\n",
       "thalach     149.646865\n",
       "exang         0.326733\n",
       "oldpeak       1.039604\n",
       "slope         1.399340\n",
       "ca            0.729373\n",
       "thal          2.313531\n",
       "target        0.544554\n",
       "dtype: float64"
      ]
     },
     "execution_count": 6,
     "metadata": {},
     "output_type": "execute_result"
    }
   ],
   "source": [
    "dataframe.mean(axis = 0)"
   ]
  },
  {
   "cell_type": "markdown",
   "id": "7c672076",
   "metadata": {},
   "source": [
    "#### Correlation matrix"
   ]
  },
  {
   "cell_type": "code",
   "execution_count": 7,
   "id": "5e8637be",
   "metadata": {
    "scrolled": true
   },
   "outputs": [],
   "source": [
    "plt.figure(figsize=(20,10))\n",
    "sns.heatmap(dataframe.corr(), annot=True, cmap='terrain')"
   ]
  },
  {
   "cell_type": "markdown",
   "id": "1ce8ea38",
   "metadata": {},
   "source": [
    "#### Pairplot of the entries "
   ]
  },
  {
   "cell_type": "code",
   "execution_count": 8,
   "id": "c3d7a911",
   "metadata": {
    "scrolled": true
   },
   "outputs": [],
   "source": [
    "sns.pairplot(data=dataframe)"
   ]
  },
  {
   "cell_type": "markdown",
   "id": "f1086b82",
   "metadata": {},
   "source": [
    "#### box plot of the entries to check if normalization is required"
   ]
  },
  {
   "cell_type": "code",
   "execution_count": 9,
   "id": "11f8b157",
   "metadata": {
    "scrolled": true
   },
   "outputs": [],
   "source": [
    "dataframe.plot(kind='box', subplots=True, layout=(5,3), figsize=(12,12))\n",
    "plt.show()"
   ]
  },
  {
   "cell_type": "markdown",
   "id": "b5fb2ea1",
   "metadata": {},
   "source": [
    "### Preprocessing"
   ]
  },
  {
   "cell_type": "code",
   "execution_count": 10,
   "id": "20d9a875",
   "metadata": {},
   "outputs": [],
   "source": [
    "StandardScaler = StandardScaler()  \n",
    "columns_to_scale = ['age','trestbps','chol','thalach','oldpeak']\n",
    "dataframe[columns_to_scale] = StandardScaler.fit_transform(dataframe[columns_to_scale])"
   ]
  },
  {
   "cell_type": "code",
   "execution_count": 11,
   "id": "b0b0ae5f",
   "metadata": {},
   "outputs": [],
   "source": [
    "X = dataframe.iloc[:, :13].values\n",
    "Y = dataframe.iloc[:, 13].values.reshape(-1,1)\n",
    "dataframe[columns_to_scale] = StandardScaler.fit_transform(dataframe[columns_to_scale])\n",
    "from sklearn.model_selection import train_test_split\n",
    "X_train, X_test, Y_train, Y_test = train_test_split(X, Y, test_size=.25)"
   ]
  },
  {
   "cell_type": "markdown",
   "id": "6c6958e1",
   "metadata": {},
   "source": [
    "### Source Code : Node Class"
   ]
  },
  {
   "cell_type": "markdown",
   "id": "bb94273b",
   "metadata": {},
   "source": [
    "#### Node class has the following members\n",
    "#### Value -> holds the predicted value for each entry. Its valid for the leaf nodes\n",
    "#### threshold -> variable that helps decide in extending the tree at a node towards left or right. \n",
    "#### left_node -> left node for the current node\n",
    "#### right_node -> right node for the current node\n",
    "#### info_gain -> information gain at the current node. It is the difference in entropy from the parent node\n",
    "#### feature_index -> index of the feature from the 12 existing features."
   ]
  },
  {
   "cell_type": "code",
   "execution_count": 12,
   "id": "87e4829a",
   "metadata": {},
   "outputs": [],
   "source": [
    "class Node():\n",
    "    def __init__(self, feature_index=None, threshold=None, left_node=None, right_node=None, info_gain=None, value=None):\n",
    "        self.value = value\n",
    "        self.feature_index = feature_index\n",
    "        self.threshold = threshold\n",
    "        self.left_node = left_node\n",
    "        self.right_node = right_node\n",
    "        self.info_gain = info_gain"
   ]
  },
  {
   "cell_type": "markdown",
   "id": "7662bf23",
   "metadata": {},
   "source": [
    "### Source Code : MyDecisionTreeClassifier Class"
   ]
  },
  {
   "cell_type": "markdown",
   "id": "c215c2ce",
   "metadata": {},
   "source": [
    "#### root -> root node\n",
    "#### max_depth -> hyperparameter that limits the maximum depth of the tree\n",
    "#### min_split -> hyperparameter that decided the minimum split\n",
    "#### fit() -> trains the model on the provided dataset\n",
    "#### get_tree() -> called by the fit() and it generates the tree and returns the root node\n",
    "#### get_best_split() -> returns the best split possible at a given node\n",
    "#### information_gain() -> returns the gain in information based on the difference in entropy between its parent node and itself.\n",
    "#### entropy() -> returns the current nodes entropy value\n",
    "#### predict() -> performs prediction on the provided train set\n",
    "#### single_prediction() -> called by predict() and it performs prediction for single entry\n"
   ]
  },
  {
   "cell_type": "code",
   "execution_count": 18,
   "id": "0ecaca8d",
   "metadata": {},
   "outputs": [],
   "source": [
    "class MyDecisionTreeClassifier():\n",
    "    def __init__(self, max_depth=2, min_split=2):\n",
    "        self.root = None\n",
    "        self.max_depth = max_depth\n",
    "        self.min_split = min_split\n",
    "        \n",
    "    def fit(self, X, Y):\n",
    "        data = np.concatenate((X, Y), axis=1)\n",
    "        self.root = self.get_tree(data)\n",
    "        \n",
    "    def get_tree(self, data, curr_depth=0):\n",
    "        X, Y = data[:,:13], data[:,13]\n",
    "        num_entries, num_features = np.shape(X)\n",
    "        \n",
    "        if num_entries >= self.min_split and curr_depth <= self.max_depth:\n",
    "            best_split = self.get_best_split(data, num_entries, num_features)\n",
    "            if best_split[\"info_gain\"]>0:\n",
    "                left_subtree = self.get_tree(best_split[\"data_left\"], curr_depth+1)\n",
    "                right_subtree = self.get_tree(best_split[\"data_right\"], curr_depth+1)\n",
    "                return Node(best_split[\"feature_index\"], best_split[\"threshold\"], \n",
    "                            left_subtree, right_subtree, best_split[\"info_gain\"])\n",
    "        \n",
    "        return Node(value = max(list(Y), key=list(Y).count))\n",
    "    \n",
    "    \n",
    "    def get_best_split(self, data, num_samples, num_features):\n",
    "        best_split = {}\n",
    "        max_info_gain = -float(\"inf\")\n",
    "\n",
    "        for feature_index in range(num_features):\n",
    "            feature_values = data[:, feature_index]\n",
    "            possible_thresholds = np.unique(feature_values)\n",
    "            \n",
    "            for threshold in possible_thresholds:\n",
    "                data_left = np.array([row for row in data if row[feature_index] <= threshold])\n",
    "                data_right = np.array([row for row in data if row[feature_index] > threshold])\n",
    "                \n",
    "                if len(data_left) > 0 and len(data_right) > 0:\n",
    "                    y, left_y, right_y = data[:, 13], data_left[:, 13], data_right[:, 13]\n",
    "                    curr_info_gain = self.information_gain(y, left_y, right_y)\n",
    "                    \n",
    "                    if curr_info_gain>max_info_gain:\n",
    "                        best_split[\"feature_index\"] = feature_index\n",
    "                        best_split[\"threshold\"] = threshold\n",
    "                        best_split[\"data_left\"] = data_left\n",
    "                        best_split[\"data_right\"] = data_right\n",
    "                        best_split[\"info_gain\"] = curr_info_gain\n",
    "                        max_info_gain = curr_info_gain\n",
    "        return best_split\n",
    "    \n",
    "    def information_gain(self, parent, l_child, r_child):\n",
    "        weight_l = len(l_child) / len(parent)\n",
    "        weight_r = len(r_child) / len(parent)\n",
    "        gain = self.entropy(parent) - (weight_l*self.entropy(l_child) + weight_r*self.entropy(r_child))\n",
    "        return gain\n",
    "    \n",
    "    def entropy(self, y):\n",
    "        class_labels = np.unique(y)\n",
    "        entropy = 0\n",
    "        for cls in class_labels:\n",
    "            p_cls = len(y[y == cls]) / len(y)\n",
    "            entropy += -p_cls * np.log2(p_cls)\n",
    "        return entropy\n",
    "\n",
    "    def predict(self, X):\n",
    "        preditions = [self.single_prediction(x, self.root) for x in X]\n",
    "        return preditions\n",
    "    \n",
    "    def single_prediction(self, x, tree):\n",
    "        if tree.value != None: return tree.value\n",
    "        feature_val = x[tree.feature_index]\n",
    "        if feature_val <= tree.threshold:\n",
    "            return self.single_prediction(x, tree.left_node)\n",
    "        else:\n",
    "            return self.single_prediction(x, tree.right_node)\n"
   ]
  },
  {
   "cell_type": "code",
   "execution_count": 14,
   "id": "e7cc2ae4",
   "metadata": {},
   "outputs": [
    {
     "name": "stdout",
     "output_type": "stream",
     "text": [
      "mean values [-0.00930819  0.66079295  1.00440529 -0.05751397 -0.00586865  0.14537445\n",
      "  0.52863436 -0.02212307  0.30837004  0.03120108  1.39207048  0.76651982\n",
      "  2.29515419]\n"
     ]
    }
   ],
   "source": [
    "print('mean values', np.mean(X_train, axis = 0))"
   ]
  },
  {
   "cell_type": "code",
   "execution_count": 15,
   "id": "ad8b2aa3",
   "metadata": {},
   "outputs": [
    {
     "name": "stdout",
     "output_type": "stream",
     "text": [
      "<class 'pandas.core.frame.DataFrame'>\n",
      "RangeIndex: 303 entries, 0 to 302\n",
      "Data columns (total 14 columns):\n",
      " #   Column    Non-Null Count  Dtype  \n",
      "---  ------    --------------  -----  \n",
      " 0   age       303 non-null    float64\n",
      " 1   sex       303 non-null    int64  \n",
      " 2   cp        303 non-null    int64  \n",
      " 3   trestbps  303 non-null    float64\n",
      " 4   chol      303 non-null    float64\n",
      " 5   fbs       303 non-null    int64  \n",
      " 6   restecg   303 non-null    int64  \n",
      " 7   thalach   303 non-null    float64\n",
      " 8   exang     303 non-null    int64  \n",
      " 9   oldpeak   303 non-null    float64\n",
      " 10  slope     303 non-null    int64  \n",
      " 11  ca        303 non-null    int64  \n",
      " 12  thal      303 non-null    int64  \n",
      " 13  target    303 non-null    int64  \n",
      "dtypes: float64(5), int64(9)\n",
      "memory usage: 33.3 KB\n"
     ]
    }
   ],
   "source": [
    "dataframe.info()"
   ]
  },
  {
   "cell_type": "code",
   "execution_count": 16,
   "id": "1a17304a",
   "metadata": {},
   "outputs": [],
   "source": [
    "classifier = MyDecisionTreeClassifier(min_split=3, max_depth=5)\n",
    "classifier.fit(X_train,Y_train)"
   ]
  },
  {
   "cell_type": "code",
   "execution_count": 17,
   "id": "5f4c2492",
   "metadata": {},
   "outputs": [
    {
     "name": "stdout",
     "output_type": "stream",
     "text": [
      "              precision    recall  f1-score   support\n",
      "\n",
      "           0       0.67      0.80      0.73        35\n",
      "           1       0.79      0.66      0.72        41\n",
      "\n",
      "    accuracy                           0.72        76\n",
      "   macro avg       0.73      0.73      0.72        76\n",
      "weighted avg       0.74      0.72      0.72        76\n",
      "\n",
      "Testing Accuracy for Decision Tree: 0.7236842105263158\n",
      "Testing Sensitivity for Decision Tree: 0.6666666666666666\n",
      "Testing Specificity for Decision Tree: 0.7941176470588235\n",
      "Testing Precision for Decision Tree: 0.8\n"
     ]
    },
    {
     "data": {
      "image/png": "[encoded data removed]",
      "text/plain": [
       "<Figure size 432x288 with 2 Axes>"
      ]
     },
     "metadata": {
      "needs_background": "light"
     },
     "output_type": "display_data"
    }
   ],
   "source": [
    "Y_pred = classifier.predict(X_test) \n",
    "accuracy_score(Y_test, Y_pred)\n",
    "print(classification_report(Y_test,Y_pred))\n",
    "cm = confusion_matrix(Y_test,Y_pred)\n",
    "sns.heatmap(cm,annot=True)\n",
    "TP=cm[0][0]\n",
    "TN=cm[1][1]\n",
    "FN=cm[1][0]\n",
    "FP=cm[0][1]\n",
    "\n",
    "print('Testing Accuracy for Decision Tree:',(TP+TN)/(TP+TN+FN+FP))\n",
    "print('Testing Sensitivity for Decision Tree:',(TP/(TP+FN)))\n",
    "print('Testing Specificity for Decision Tree:',(TN/(TN+FP)))\n",
    "print('Testing Precision for Decision Tree:',(TP/(TP+FP)))"
   ]
  }
 ],
 "metadata": {
  "kernelspec": {
   "display_name": "Python 3 (ipykernel)",
   "language": "python",
   "name": "python3"
  },
  "language_info": {
   "codemirror_mode": {
    "name": "ipython",
    "version": 3
   },
   "file_extension": ".py",
   "mimetype": "text/x-python",
   "name": "python",
   "nbconvert_exporter": "python",
   "pygments_lexer": "ipython3",
   "version": "3.9.9"
  }
 },
 "nbformat": 4,
 "nbformat_minor": 5
}
