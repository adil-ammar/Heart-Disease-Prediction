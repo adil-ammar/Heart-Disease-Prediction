{
 "cells": [
  {
   "cell_type": "code",
   "execution_count": 1,
   "id": "bf818883",
   "metadata": {},
   "outputs": [],
   "source": [
    "import csv\n",
    "import numpy as np\n",
    "import random as rnd\n",
    "\n",
    "x1_age = []\n",
    "x2_sex = []\n",
    "x3_cp = []\n",
    "x4_trestbps = []\n",
    "x5_chol = []\n",
    "x6_fbs = []\n",
    "x7_restecg = []\n",
    "x8_thalach = []\n",
    "x9_exang = []\n",
    "x10_oldpeak = []\n",
    "x11_slope = []\n",
    "x12_ca = []\n",
    "x13_thal = []\n",
    "y_target = []\n",
    "\n",
    "def read_file(file_name):\n",
    "\n",
    "    data = csv.reader(open(file_name, newline=''))\n",
    "    \n",
    "    skip = True\n",
    "    for row in data:\n",
    "        \n",
    "        if skip:\n",
    "            skip = False\n",
    "            continue\n",
    "        \n",
    "        x1_age.append(int(row[0]))\n",
    "        x2_sex.append(int(row[1]))\n",
    "        x3_cp.append(int(row[2]))\n",
    "        x4_trestbps.append(int(row[3]))\n",
    "        x5_chol.append(int(row[4]))\n",
    "        x6_fbs.append(int(row[5]))\n",
    "        x7_restecg.append(int(row[6]))\n",
    "        x8_thalach.append(int(row[7]))\n",
    "        x9_exang.append(int(row[8]))\n",
    "        x10_oldpeak.append(float(row[9]))\n",
    "        x11_slope.append(int(row[10]))\n",
    "        x12_ca.append(int(row[11]))\n",
    "        x13_thal.append(int(row[12]))\n",
    "        \n",
    "        y_target.append(int(row[13]))"
   ]
  },
  {
   "cell_type": "code",
   "execution_count": 2,
   "id": "f26966ea",
   "metadata": {},
   "outputs": [],
   "source": [
    "read_file(\"../data/heart_disease_dataset_UCI.csv\")"
   ]
  },
  {
   "cell_type": "code",
   "execution_count": 3,
   "id": "c1fe7750",
   "metadata": {},
   "outputs": [],
   "source": [
    "def create_feature_matrix():\n",
    "    \n",
    "    norm = np.linalg.norm(np.array(x1_age))\n",
    "    Age = np.array(x1_age)/norm\n",
    "    Sex = np.array(x2_sex)\n",
    "    CP = np.array(x3_cp)\n",
    "    norm = np.linalg.norm(np.array(x4_trestbps))\n",
    "    Trestbps = np.array(x4_trestbps)/norm\n",
    "    norm = np.linalg.norm(np.array(x5_chol))\n",
    "    Chol = np.array(x5_chol)/norm\n",
    "    FBS = np.array(x6_fbs)\n",
    "    Restecg = np.array(x7_restecg)\n",
    "    norm = np.linalg.norm(np.array(x8_thalach))\n",
    "    Thalach = np.array(x8_thalach)/norm\n",
    "    Exang = np.array(x9_exang)\n",
    "    norm = np.linalg.norm(np.array(x10_oldpeak))\n",
    "    Oldpeak = np.array(x10_oldpeak)/norm\n",
    "    Slope = np.array(x11_slope)\n",
    "    CA = np.array(x12_ca)\n",
    "    Thal = np.array(x13_thal)\n",
    "    \n",
    "    global feature_matrix\n",
    "    feature_matrix =  np.column_stack((Age,Sex,CP,Trestbps,Chol,FBS,Restecg,Thalach,Exang,Oldpeak,Slope,CA,Thal))\n",
    "    \n",
    "    \n",
    "    \n",
    "    "
   ]
  },
  {
   "cell_type": "code",
   "execution_count": 4,
   "id": "08e561d1",
   "metadata": {},
   "outputs": [],
   "source": [
    "class SVM():\n",
    "    \n",
    "    def __init__(self, max_iter=10000, kernel_type='linear', C=1.0, epsilon=0.001, deg=2):\n",
    "        self.kernels = {\n",
    "            'linear' : self.kernel_linear,\n",
    "            'poly' : self.kernel_poly,\n",
    "            'sigmoid' : self.kernel_sigmoid,\n",
    "            'rbf' : self.kernel_rbf\n",
    "        }\n",
    "        self.max_iter = max_iter\n",
    "        self.kernel_type = kernel_type\n",
    "        self.C = C\n",
    "        self.epsilon = epsilon\n",
    "        self.deg = deg\n",
    "        \n",
    "        \n",
    "    def fit(self, X, y):\n",
    "        n = X.shape[0]\n",
    "        \n",
    "        alpha = np.zeros((n))\n",
    "        \n",
    "        kernel = self.kernels[self.kernel_type]\n",
    "        \n",
    "        \n",
    "        iteration = 0\n",
    "        while True:\n",
    "            iteration += 1\n",
    "            \n",
    "            alpha_prev = np.copy(alpha)\n",
    "            \n",
    "            for j in range(0, n):\n",
    "                \n",
    "                i = self.get_rnd_int(0, n-1, j) \n",
    "                \n",
    "                x_i = X[i,:]\n",
    "                x_j = X[j,:]\n",
    "                y_i = y[i]\n",
    "                y_j = y[j]\n",
    "                \n",
    "                k_ij = kernel(x_i, x_i) + kernel(x_j, x_j) - 2 * kernel(x_i, x_j)\n",
    "                \n",
    "                if k_ij == 0:\n",
    "                    continue\n",
    "                \n",
    "                alpha_prime_j, alpha_prime_i = alpha[j], alpha[i]\n",
    "                (L, H) = self.compute_L_H(self.C, alpha_prime_j, alpha_prime_i, y_j, y_i)\n",
    "\n",
    "                self.w = self.calc_w(alpha, y, X)\n",
    "                self.b = self.calc_b(X, y, self.w)\n",
    "\n",
    "                E_i = self.E(x_i, y_i, self.w, self.b)\n",
    "                E_j = self.E(x_j, y_j, self.w, self.b)\n",
    "\n",
    "                alpha[j] = alpha_prime_j + float(y_j * (E_i - E_j))/k_ij\n",
    "                alpha[j] = max(alpha[j], L)\n",
    "                alpha[j] = min(alpha[j], H)\n",
    "\n",
    "                alpha[i] = alpha_prime_i + y_i*y_j * (alpha_prime_j - alpha[j])\n",
    "\n",
    "            diff = np.linalg.norm(alpha - alpha_prev)\n",
    "            if diff < self.epsilon:\n",
    "                break\n",
    "\n",
    "            if iteration >= self.max_iter:\n",
    "                print(\"Iteration number exceeded the max of %d iterations\" % (self.max_iter))\n",
    "                return\n",
    "            \n",
    "        self.b = self.calc_b(X, y, self.w)\n",
    "        if self.kernel_type == 'linear':\n",
    "            self.w = self.calc_w(alpha, y, X)\n",
    "            \n",
    "            \n",
    "    def predict(self, X):\n",
    "        return self.h(X, self.w, self.b)\n",
    "    \n",
    "    def calc_b(self, X, y, w):\n",
    "        b_tmp = y - np.dot(w.T, X.T)\n",
    "        return np.mean(b_tmp)\n",
    "    \n",
    "    def calc_w(self, alpha, y, X):\n",
    "        return np.dot(alpha * y, X)\n",
    "    \n",
    "    def h(self, X, w, b):\n",
    "        return np.sign(np.dot(w.T, X.T) + b).astype(int)\n",
    "    \n",
    "    def E(self, x_k, y_k, w, b):\n",
    "        return self.h(x_k, w, b) - y_k\n",
    "    \n",
    "    def compute_L_H(self, C, alpha_prime_j, alpha_prime_i, y_j, y_i):\n",
    "        if(y_i != y_j):\n",
    "            return (max(0, alpha_prime_j - alpha_prime_i), min(C, C - alpha_prime_i + alpha_prime_j))\n",
    "        else:\n",
    "            return (max(0, alpha_prime_i + alpha_prime_j - C), min(C, alpha_prime_i + alpha_prime_j))\n",
    "        \n",
    "    def get_rnd_int(self, a,b,z):\n",
    "        i = z\n",
    "        cnt=0\n",
    "        while i == z and cnt<1000:\n",
    "            i = rnd.randint(a,b)\n",
    "            cnt=cnt+1\n",
    "        return i\n",
    "    \n",
    "    def kernel_linear(self, x1, x2):\n",
    "        return np.dot(x1, x2.T)\n",
    "    def kernel_poly(self, x1, x2):\n",
    "        return np.dot(x1, x2.T) ** self.deg\n",
    "    def kernel_sigmoid(self, x1, x2):\n",
    "        return np.tanh(np.dot(x1, x2.T))\n",
    "    def kernel_rbf(self, x1, x2):\n",
    "        return np.exp(-np.dot(x1 - x2, x1 - x2))\n",
    "    \n",
    "    #Printing out the parameters of SVM\n",
    "    def print_info(self):\n",
    "        print(\"----------RUN DETAILS------------\")\n",
    "        print(\"C:\",self.C)\n",
    "        print(\"max_iter:\",self.max_iter)\n",
    "        print(\"epsilon:\",self.epsilon)\n",
    "        print(\"kernel_type:\",self.kernel_type)"
   ]
  },
  {
   "cell_type": "code",
   "execution_count": 5,
   "id": "1b51dd03",
   "metadata": {},
   "outputs": [],
   "source": [
    "def calc_acc(y, y_hat):\n",
    "    \n",
    "    correct_counter = 0\n",
    "    for i in range(0,len(y)):\n",
    "        if(y[i] == 0 and y_hat[i] == 0):\n",
    "            correct_counter = correct_counter + 1\n",
    "        if(y[i] == 1 and y_hat[i] == 1):\n",
    "            correct_counter = correct_counter + 1\n",
    "    \n",
    "    return (correct_counter/len(y))"
   ]
  },
  {
   "cell_type": "code",
   "execution_count": 6,
   "id": "75d61003",
   "metadata": {},
   "outputs": [],
   "source": [
    "def main(C, epsilon, kernel):\n",
    "    \n",
    "    \n",
    "    \n",
    "    max_iter = 10000\n",
    "    kernel_type = kernel\n",
    "    \n",
    "    model = SVM(max_iter,kernel_type,C,epsilon)\n",
    "    \n",
    "    from sklearn.model_selection import train_test_split\n",
    "    X_train, X_test, y_train, y_test = train_test_split(feature_matrix, y_target, test_size = 0.25, random_state = 40)\n",
    "    \n",
    "    global support_vectors\n",
    "\n",
    "    model.fit(X_train,y_train)\n",
    "\n",
    "    y_hat = model.predict(X_test)\n",
    "    \n",
    "#     print(len(y_test))\n",
    "#     print(len(y_hat))\n",
    "    accuracy = calc_acc(y_test, y_hat)\n",
    "    \n",
    "    model.print_info()\n",
    "    print(\"\\nAccuracy:\",accuracy)\n"
   ]
  },
  {
   "cell_type": "code",
   "execution_count": 7,
   "id": "62ff10c6",
   "metadata": {},
   "outputs": [],
   "source": [
    "create_feature_matrix()"
   ]
  },
  {
   "cell_type": "code",
   "execution_count": 8,
   "id": "ce16ae32",
   "metadata": {},
   "outputs": [
    {
     "name": "stdout",
     "output_type": "stream",
     "text": [
      "----------RUN DETAILS------------\n",
      "C: 0.01\n",
      "max_iter: 1000\n",
      "kernel_type: linear\n",
      "\n",
      "Accuracy: 0.724\n"
     ]
    }
   ],
   "source": [
    "# linear kernel\n",
    "main(0.001,  'linear')"
   ]
  },
  {
   "cell_type": "code",
   "execution_count": 9,
   "id": "7cb6f1c1",
   "metadata": {},
   "outputs": [
    {
     "name": "stdout",
     "output_type": "stream",
     "text": [
      "----------RUN DETAILS------------\n",
      "C: 0.1\n",
      "max_iter: 1000\n",
      "kernel_type: poly\n",
      "\n",
      "Accuracy: 0.652\n"
     ]
    }
   ],
   "source": [
    "# poly kernel\n",
    "main(0.0001, 'poly')"
   ]
  },
  {
   "cell_type": "code",
   "execution_count": 10,
   "id": "5082690e",
   "metadata": {},
   "outputs": [
    {
     "name": "stdout",
     "output_type": "stream",
     "text": [
      "----------RUN DETAILS------------\n",
      "C: 1\n",
      "max_iter: 1000\n",
      "kernel_type: sigmoid\n",
      "\n",
      "Accuracy: 0.693\n"
     ]
    }
   ],
   "source": [
    "# sigmoid kernel\n",
    "main(0.01, 'sigmoid')"
   ]
  },
  {
   "cell_type": "code",
   "execution_count": 11,
   "id": "a2f2922d",
   "metadata": {},
   "outputs": [
    {
     "name": "stdout",
     "output_type": "stream",
     "text": [
      "----------RUN DETAILS------------\n",
      "C: 100\n",
      "gamma: 0.01\n",
      "max_iter: 1000\n",
      "kernel_type: rbf\n",
      "\n",
      "Accuracy: 0.657\n"
     ]
    }
   ],
   "source": [
    "# rbf kernel\n",
    "main(0.01, 0.1, 'rbf')"
   ]
  },
  {
   "cell_type": "code",
   "execution_count": null,
   "id": "45bcd90b",
   "metadata": {},
   "outputs": [],
   "source": []
  }
 ],
 "metadata": {
  "kernelspec": {
   "display_name": "Python 3 (ipykernel)",
   "language": "python",
   "name": "python3"
  },
  "language_info": {
   "codemirror_mode": {
    "name": "ipython",
    "version": 3
   },
   "file_extension": ".py",
   "mimetype": "text/x-python",
   "name": "python",
   "nbconvert_exporter": "python",
   "pygments_lexer": "ipython3",
   "version": "3.9.7"
  }
 },
 "nbformat": 4,
 "nbformat_minor": 5
}
